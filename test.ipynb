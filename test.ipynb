{
 "cells": [
  {
   "cell_type": "code",
   "execution_count": 14,
   "metadata": {},
   "outputs": [],
   "source": [
    "from pathlib import Path\n",
    "import numpy as np\n",
    "import chess\n",
    "import tensorflow as tf\n",
    "from sklearn.model_selection import train_test_split\n",
    "import pandas as pd\n",
    "import matplotlib.pyplot as plt"
   ]
  },
  {
   "cell_type": "code",
   "execution_count": 15,
   "metadata": {},
   "outputs": [],
   "source": [
    "model = tf.keras.models.load_model('model.h5')\n"
   ]
  },
  {
   "cell_type": "code",
   "execution_count": 16,
   "metadata": {},
   "outputs": [],
   "source": [
    "def get_one_hot_encoded_pos(board:chess.Board):\n",
    "    \"\"\"\n",
    "    Returns a one hot encoded position.\n",
    "    dim 0: white pawn (1)\n",
    "    dim 1: white knight (2)\n",
    "    dim 2: white bishop (3)\n",
    "    dim 3: white rook (4)\n",
    "    dim 4: white queen (5)\n",
    "    dim 5: white king (6)\n",
    "    dim 6: black pawn (1)\n",
    "    dim 7: black knight (2)\n",
    "    dim 8: black bishop\n",
    "    dim 9: black rook\n",
    "    dim 10: black queen\n",
    "    dim 11: black king\n",
    "    dim 12: possible moves\n",
    "    \"\"\"\n",
    "    one_hot_encoded_pos = np.zeros((64, 13))\n",
    "    for square, piece in board.piece_map().items():\n",
    "        if piece.color:\n",
    "            one_hot_encoded_pos[square, piece.piece_type - 1] = 1\n",
    "        else:\n",
    "            one_hot_encoded_pos[square, piece.piece_type + 5] = 1\n",
    "    for move in board.legal_moves:\n",
    "        one_hot_encoded_pos[move.to_squar, 12] = 1\n",
    "    return one_hot_encoded_pos\n"
   ]
  },
  {
   "cell_type": "code",
   "execution_count": 17,
   "metadata": {},
   "outputs": [],
   "source": [
    "pos = get_one_hot_encoded_pos(chess.Board())\n",
    "pos.shape\n",
    "pos = np.expand_dims(pos, axis=0)\n",
    "#pos.shape"
   ]
  },
  {
   "cell_type": "code",
   "execution_count": 21,
   "metadata": {},
   "outputs": [
    {
     "name": "stdout",
     "output_type": "stream",
     "text": [
      "1/1 [==============================] - 0s 28ms/step\n"
     ]
    },
    {
     "data": {
      "text/plain": [
       "-0.008883909"
      ]
     },
     "execution_count": 21,
     "metadata": {},
     "output_type": "execute_result"
    }
   ],
   "source": [
    "model.predict(pos)[0][0]"
   ]
  }
 ],
 "metadata": {
  "kernelspec": {
   "display_name": "Python 3.9.13 64-bit",
   "language": "python",
   "name": "python3"
  },
  "language_info": {
   "codemirror_mode": {
    "name": "ipython",
    "version": 3
   },
   "file_extension": ".py",
   "mimetype": "text/x-python",
   "name": "python",
   "nbconvert_exporter": "python",
   "pygments_lexer": "ipython3",
   "version": "3.9.13"
  },
  "orig_nbformat": 4,
  "vscode": {
   "interpreter": {
    "hash": "36c4e15d3501f1b8c035377f86e47d79812678382be8e661e791815c966f0344"
   }
  }
 },
 "nbformat": 4,
 "nbformat_minor": 2
}
