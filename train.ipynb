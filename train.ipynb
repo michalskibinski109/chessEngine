{
 "cells": [
  {
   "cell_type": "code",
   "execution_count": 30,
   "metadata": {},
   "outputs": [],
   "source": [
    "from pathlib import Path\n",
    "import numpy as np\n",
    "import tensorflow as tf\n",
    "from sklearn.model_selection import train_test_split\n",
    "import pandas as pd\n",
    "import matplotlib.pyplot as plt"
   ]
  },
  {
   "cell_type": "code",
   "execution_count": 31,
   "metadata": {},
   "outputs": [],
   "source": [
    "data_path = Path('data').resolve()\n",
    "X_path= data_path / 'EX.npy'\n",
    "y_path = data_path / 'EY.npy'\n"
   ]
  },
  {
   "cell_type": "code",
   "execution_count": 32,
   "metadata": {},
   "outputs": [
    {
     "data": {
      "text/plain": [
       "((177420, 64, 13), (177420,))"
      ]
     },
     "execution_count": 32,
     "metadata": {},
     "output_type": "execute_result"
    }
   ],
   "source": [
    "X, Y =  np.load(X_path), np.load(y_path)\n",
    "X.shape, Y.shape\n"
   ]
  },
  {
   "cell_type": "code",
   "execution_count": 33,
   "metadata": {},
   "outputs": [],
   "source": [
    "# cut \n",
    "CUT = 0.15 # higher less is cut"
   ]
  },
  {
   "cell_type": "code",
   "execution_count": 34,
   "metadata": {},
   "outputs": [],
   "source": [
    "Y = Y / max(abs(Y.min()), abs(Y.max())) "
   ]
  },
  {
   "cell_type": "code",
   "execution_count": 35,
   "metadata": {},
   "outputs": [
    {
     "data": {
      "text/plain": [
       "(array([1.0000e+00, 0.0000e+00, 2.0000e+00, 4.0000e+00, 7.0000e+00,\n",
       "        6.0000e+00, 4.0000e+00, 8.0000e+00, 1.3000e+01, 1.5000e+01,\n",
       "        2.6000e+01, 1.7000e+01, 2.7000e+01, 3.6000e+01, 2.8000e+01,\n",
       "        3.8000e+01, 4.8000e+01, 2.5000e+01, 2.3000e+01, 2.2000e+01,\n",
       "        1.3000e+01, 1.3000e+01, 1.9000e+01, 2.5000e+01, 3.2000e+01,\n",
       "        3.6000e+01, 4.9000e+01, 5.3000e+01, 8.2000e+01, 9.6000e+01,\n",
       "        1.7200e+02, 2.1500e+02, 2.8800e+02, 4.3100e+02, 5.0100e+02,\n",
       "        7.3200e+02, 9.4300e+02, 1.2190e+03, 1.6300e+03, 1.9690e+03,\n",
       "        2.3740e+03, 2.9380e+03, 3.5120e+03, 4.2010e+03, 5.9550e+03,\n",
       "        7.9890e+03, 9.1220e+03, 7.1790e+03, 5.4870e+03, 5.5980e+03,\n",
       "        8.5000e+03, 2.1598e+04, 1.0408e+04, 6.3730e+03, 6.1300e+03,\n",
       "        8.0900e+03, 9.7570e+03, 9.6640e+03, 7.4670e+03, 5.4730e+03,\n",
       "        4.3210e+03, 3.4110e+03, 2.8670e+03, 2.2110e+03, 1.8410e+03,\n",
       "        1.3780e+03, 1.0810e+03, 8.2800e+02, 5.7700e+02, 4.5300e+02,\n",
       "        3.6000e+02, 2.5500e+02, 1.9700e+02, 1.5400e+02, 1.1900e+02,\n",
       "        9.6000e+01, 6.9000e+01, 5.5000e+01, 4.5000e+01, 4.5000e+01,\n",
       "        3.2000e+01, 1.8000e+01, 2.2000e+01, 1.7000e+01, 3.0000e+01,\n",
       "        2.6000e+01, 3.7000e+01, 5.2000e+01, 2.8000e+01, 2.5000e+01,\n",
       "        1.8000e+01, 1.9000e+01, 1.6000e+01, 8.0000e+00, 1.0000e+01,\n",
       "        5.0000e+00, 6.0000e+00, 1.0000e+00, 3.0000e+00, 1.0000e+00]),\n",
       " array([-1.        , -0.98055443, -0.96110887, -0.9416633 , -0.92221773,\n",
       "        -0.90277217, -0.8833266 , -0.86388103, -0.84443547, -0.8249899 ,\n",
       "        -0.80554433, -0.78609877, -0.7666532 , -0.74720763, -0.72776207,\n",
       "        -0.7083165 , -0.68887093, -0.66942536, -0.6499798 , -0.63053423,\n",
       "        -0.61108866, -0.5916431 , -0.57219753, -0.55275196, -0.5333064 ,\n",
       "        -0.51386083, -0.49441526, -0.4749697 , -0.45552413, -0.43607856,\n",
       "        -0.416633  , -0.39718743, -0.37774186, -0.3582963 , -0.33885073,\n",
       "        -0.31940516, -0.2999596 , -0.28051403, -0.26106846, -0.2416229 ,\n",
       "        -0.22217733, -0.20273176, -0.1832862 , -0.16384063, -0.14439506,\n",
       "        -0.12494949, -0.10550393, -0.08605836, -0.06661279, -0.04716723,\n",
       "        -0.02772166, -0.00827609,  0.01116947,  0.03061504,  0.05006061,\n",
       "         0.06950617,  0.08895174,  0.10839731,  0.12784287,  0.14728844,\n",
       "         0.16673401,  0.18617957,  0.20562514,  0.22507071,  0.24451627,\n",
       "         0.26396184,  0.28340741,  0.30285297,  0.32229854,  0.34174411,\n",
       "         0.36118967,  0.38063524,  0.40008081,  0.41952637,  0.43897194,\n",
       "         0.45841751,  0.47786308,  0.49730864,  0.51675421,  0.53619978,\n",
       "         0.55564534,  0.57509091,  0.59453648,  0.61398204,  0.63342761,\n",
       "         0.65287318,  0.67231874,  0.69176431,  0.71120988,  0.73065544,\n",
       "         0.75010101,  0.76954658,  0.78899214,  0.80843771,  0.82788328,\n",
       "         0.84732884,  0.86677441,  0.88621998,  0.90566554,  0.92511111,\n",
       "         0.94455668]),\n",
       " <BarContainer object of 100 artists>)"
      ]
     },
     "execution_count": 35,
     "metadata": {},
     "output_type": "execute_result"
    },
    {
     "data": {
      "image/png": "[encoded data removed]",
      "text/plain": [
       "<Figure size 640x480 with 1 Axes>"
      ]
     },
     "metadata": {},
     "output_type": "display_data"
    }
   ],
   "source": [
    "# plot y distribution\n",
    "\n",
    "plt.hist(Y, bins=100)"
   ]
  },
  {
   "cell_type": "code",
   "execution_count": 36,
   "metadata": {},
   "outputs": [
    {
     "data": {
      "image/png": "[encoded data removed]",
      "text/plain": [
       "<Figure size 640x480 with 1 Axes>"
      ]
     },
     "metadata": {},
     "output_type": "display_data"
    },
    {
     "data": {
      "text/plain": [
       "((120229, 64, 13), (120229,))"
      ]
     },
     "execution_count": 36,
     "metadata": {},
     "output_type": "execute_result"
    }
   ],
   "source": [
    "error = .05\n",
    "X = list(X)\n",
    "Y = list(Y)\n",
    "new_x = []\n",
    "new_y = []\n",
    "for i in range(len(Y)):\n",
    "    if not (abs(Y[i]) < error and np.random.random() < -.5 + (error - abs(Y[i])) / error) and not (abs(Y[i]) >CUT):\n",
    "        new_x.append(X[i])\n",
    "        new_y.append(Y[i])\n",
    "X = np.array(new_x).reshape(-1, 64, 13)\n",
    "Y = np.array(new_y)\n",
    "Y = Y / max(abs(Y.min()), abs(Y.max()))\n",
    "plt.hist(Y, bins=100)\n",
    "plt.show()\n",
    "X.shape, Y.shape"
   ]
  },
  {
   "cell_type": "code",
   "execution_count": 37,
   "metadata": {},
   "outputs": [
    {
     "data": {
      "text/plain": [
       "((119026, 64, 13), (1203, 64, 13), (119026,), (1203,))"
      ]
     },
     "execution_count": 37,
     "metadata": {},
     "output_type": "execute_result"
    }
   ],
   "source": [
    "\n",
    "\n",
    "# split the data into train and test se\n",
    "X_train, X_test, Y_train, Y_test = train_test_split(X, Y, test_size=0.01, random_state=42)\n",
    "\n",
    "X_train.shape, X_test.shape, Y_train.shape, Y_test.shape"
   ]
  },
  {
   "cell_type": "code",
   "execution_count": 48,
   "metadata": {},
   "outputs": [
    {
     "name": "stdout",
     "output_type": "stream",
     "text": [
      "Epoch 1/50\n",
      "117/117 [==============================] - 3s 16ms/step - loss: 0.4355 - mse: 0.2739 - val_loss: 0.3192 - val_mse: 0.1554\n",
      "Epoch 2/50\n",
      "117/117 [==============================] - 1s 13ms/step - loss: 0.2622 - mse: 0.1189 - val_loss: 0.1833 - val_mse: 0.0596\n",
      "Epoch 3/50\n",
      "117/117 [==============================] - 2s 13ms/step - loss: 0.1982 - mse: 0.0734 - val_loss: 0.1586 - val_mse: 0.0488\n",
      "Epoch 4/50\n",
      "117/117 [==============================] - 2s 13ms/step - loss: 0.1764 - mse: 0.0591 - val_loss: 0.1472 - val_mse: 0.0432\n",
      "Epoch 5/50\n",
      "117/117 [==============================] - 1s 13ms/step - loss: 0.1624 - mse: 0.0507 - val_loss: 0.1384 - val_mse: 0.0399\n",
      "Epoch 6/50\n",
      "117/117 [==============================] - 1s 13ms/step - loss: 0.1537 - mse: 0.0459 - val_loss: 0.1325 - val_mse: 0.0370\n",
      "Epoch 7/50\n",
      "117/117 [==============================] - 2s 13ms/step - loss: 0.1474 - mse: 0.0428 - val_loss: 0.1317 - val_mse: 0.0369\n",
      "Epoch 8/50\n",
      "117/117 [==============================] - 2s 13ms/step - loss: 0.1426 - mse: 0.0404 - val_loss: 0.1328 - val_mse: 0.0370\n",
      "Epoch 9/50\n",
      "117/117 [==============================] - 2s 13ms/step - loss: 0.1392 - mse: 0.0387 - val_loss: 0.1330 - val_mse: 0.0367\n",
      "Epoch 10/50\n",
      "117/117 [==============================] - 2s 13ms/step - loss: 0.1361 - mse: 0.0371 - val_loss: 0.1291 - val_mse: 0.0357\n",
      "Epoch 11/50\n",
      "117/117 [==============================] - 2s 13ms/step - loss: 0.1330 - mse: 0.0356 - val_loss: 0.1280 - val_mse: 0.0353\n",
      "Epoch 12/50\n",
      "117/117 [==============================] - 2s 14ms/step - loss: 0.1306 - mse: 0.0345 - val_loss: 0.1338 - val_mse: 0.0370\n",
      "Epoch 13/50\n",
      "117/117 [==============================] - 2s 13ms/step - loss: 0.1287 - mse: 0.0336 - val_loss: 0.1282 - val_mse: 0.0352\n",
      "Epoch 14/50\n",
      "117/117 [==============================] - 2s 14ms/step - loss: 0.1277 - mse: 0.0331 - val_loss: 0.1267 - val_mse: 0.0346\n",
      "Epoch 15/50\n",
      "117/117 [==============================] - 2s 13ms/step - loss: 0.1250 - mse: 0.0318 - val_loss: 0.1260 - val_mse: 0.0344\n",
      "Epoch 16/50\n",
      "117/117 [==============================] - 2s 13ms/step - loss: 0.1239 - mse: 0.0313 - val_loss: 0.1255 - val_mse: 0.0341\n",
      "Epoch 17/50\n",
      "117/117 [==============================] - 2s 13ms/step - loss: 0.1234 - mse: 0.0311 - val_loss: 0.1269 - val_mse: 0.0350\n",
      "Epoch 18/50\n",
      "117/117 [==============================] - 2s 14ms/step - loss: 0.1221 - mse: 0.0305 - val_loss: 0.1272 - val_mse: 0.0353\n",
      "Epoch 19/50\n",
      "117/117 [==============================] - 2s 13ms/step - loss: 0.1209 - mse: 0.0300 - val_loss: 0.1245 - val_mse: 0.0345\n",
      "Epoch 20/50\n",
      "117/117 [==============================] - 2s 13ms/step - loss: 0.1200 - mse: 0.0295 - val_loss: 0.1304 - val_mse: 0.0367\n",
      "Epoch 21/50\n",
      "117/117 [==============================] - 2s 14ms/step - loss: 0.1196 - mse: 0.0293 - val_loss: 0.1267 - val_mse: 0.0353\n",
      "Epoch 22/50\n",
      "117/117 [==============================] - 2s 13ms/step - loss: 0.1188 - mse: 0.0290 - val_loss: 0.1236 - val_mse: 0.0337\n",
      "Epoch 23/50\n",
      "117/117 [==============================] - 2s 14ms/step - loss: 0.1178 - mse: 0.0285 - val_loss: 0.1268 - val_mse: 0.0349\n",
      "Epoch 24/50\n",
      "117/117 [==============================] - 1s 13ms/step - loss: 0.1168 - mse: 0.0281 - val_loss: 0.1252 - val_mse: 0.0343\n",
      "Epoch 25/50\n",
      "117/117 [==============================] - 2s 13ms/step - loss: 0.1159 - mse: 0.0276 - val_loss: 0.1248 - val_mse: 0.0347\n",
      "Epoch 26/50\n",
      "117/117 [==============================] - 2s 13ms/step - loss: 0.1157 - mse: 0.0275 - val_loss: 0.1249 - val_mse: 0.0343\n",
      "Epoch 27/50\n",
      "117/117 [==============================] - 2s 13ms/step - loss: 0.1147 - mse: 0.0272 - val_loss: 0.1269 - val_mse: 0.0345\n",
      "Epoch 28/50\n",
      "117/117 [==============================] - 2s 15ms/step - loss: 0.1146 - mse: 0.0270 - val_loss: 0.1281 - val_mse: 0.0358\n",
      "Epoch 29/50\n",
      "117/117 [==============================] - 2s 14ms/step - loss: 0.1135 - mse: 0.0266 - val_loss: 0.1258 - val_mse: 0.0350\n",
      "Epoch 30/50\n",
      "117/117 [==============================] - 2s 13ms/step - loss: 0.1133 - mse: 0.0266 - val_loss: 0.1267 - val_mse: 0.0351\n",
      "Epoch 31/50\n",
      "117/117 [==============================] - 2s 13ms/step - loss: 0.1126 - mse: 0.0262 - val_loss: 0.1257 - val_mse: 0.0345\n",
      "Epoch 32/50\n",
      "117/117 [==============================] - 2s 14ms/step - loss: 0.1122 - mse: 0.0259 - val_loss: 0.1257 - val_mse: 0.0348\n",
      "Epoch 33/50\n",
      "117/117 [==============================] - 2s 15ms/step - loss: 0.1112 - mse: 0.0256 - val_loss: 0.1270 - val_mse: 0.0345\n",
      "Epoch 34/50\n",
      "117/117 [==============================] - 2s 13ms/step - loss: 0.1115 - mse: 0.0257 - val_loss: 0.1283 - val_mse: 0.0351\n",
      "Epoch 35/50\n",
      "117/117 [==============================] - 2s 15ms/step - loss: 0.1113 - mse: 0.0256 - val_loss: 0.1283 - val_mse: 0.0349\n",
      "Epoch 36/50\n",
      "117/117 [==============================] - 2s 15ms/step - loss: 0.1106 - mse: 0.0253 - val_loss: 0.1270 - val_mse: 0.0348\n",
      "Epoch 37/50\n",
      "117/117 [==============================] - 1s 12ms/step - loss: 0.1100 - mse: 0.0250 - val_loss: 0.1244 - val_mse: 0.0343\n",
      "Epoch 38/50\n",
      "117/117 [==============================] - 1s 11ms/step - loss: 0.1101 - mse: 0.0251 - val_loss: 0.1249 - val_mse: 0.0340\n",
      "Epoch 39/50\n",
      "117/117 [==============================] - 2s 14ms/step - loss: 0.1098 - mse: 0.0250 - val_loss: 0.1251 - val_mse: 0.0339\n",
      "Epoch 40/50\n",
      "117/117 [==============================] - 2s 14ms/step - loss: 0.1089 - mse: 0.0246 - val_loss: 0.1260 - val_mse: 0.0340\n",
      "Epoch 41/50\n",
      "117/117 [==============================] - 2s 13ms/step - loss: 0.1088 - mse: 0.0245 - val_loss: 0.1256 - val_mse: 0.0340\n",
      "Epoch 42/50\n",
      "117/117 [==============================] - 2s 14ms/step - loss: 0.1086 - mse: 0.0245 - val_loss: 0.1240 - val_mse: 0.0338\n",
      "Epoch 43/50\n",
      "117/117 [==============================] - 2s 14ms/step - loss: 0.1082 - mse: 0.0242 - val_loss: 0.1243 - val_mse: 0.0341\n",
      "Epoch 44/50\n",
      "117/117 [==============================] - 2s 15ms/step - loss: 0.1080 - mse: 0.0242 - val_loss: 0.1257 - val_mse: 0.0347\n",
      "Epoch 45/50\n",
      "117/117 [==============================] - 2s 15ms/step - loss: 0.1074 - mse: 0.0240 - val_loss: 0.1252 - val_mse: 0.0342\n",
      "Epoch 46/50\n",
      "117/117 [==============================] - 2s 14ms/step - loss: 0.1073 - mse: 0.0239 - val_loss: 0.1260 - val_mse: 0.0348\n",
      "Epoch 47/50\n",
      "117/117 [==============================] - 2s 14ms/step - loss: 0.1068 - mse: 0.0238 - val_loss: 0.1244 - val_mse: 0.0338\n",
      "Epoch 48/50\n",
      "117/117 [==============================] - 2s 15ms/step - loss: 0.1072 - mse: 0.0238 - val_loss: 0.1239 - val_mse: 0.0336\n",
      "Epoch 49/50\n",
      "117/117 [==============================] - 2s 15ms/step - loss: 0.1064 - mse: 0.0235 - val_loss: 0.1236 - val_mse: 0.0335\n",
      "Epoch 50/50\n",
      "117/117 [==============================] - 1s 12ms/step - loss: 0.1062 - mse: 0.0235 - val_loss: 0.1224 - val_mse: 0.0333\n"
     ]
    },
    {
     "data": {
      "text/plain": [
       "<AxesSubplot: >"
      ]
     },
     "execution_count": 48,
     "metadata": {},
     "output_type": "execute_result"
    },
    {
     "data": {
      "image/png": "[encoded data removed]",
      "text/plain": [
       "<Figure size 640x480 with 1 Axes>"
      ]
     },
     "metadata": {},
     "output_type": "display_data"
    }
   ],
   "source": [
    "model = tf.keras.models.Sequential([\n",
    "    tf.keras.layers.Flatten(input_shape=(64, 13)),\n",
    "    # flatten data\n",
    "    # tf.keras.layers.Dense(8, activation='relu'),\n",
    "    tf.keras.layers.Dense(128, activation='relu'),\n",
    "    tf.keras.layers.Dropout(0.4),\n",
    "    tf.keras.layers.Dense(32, activation='relu'),\n",
    "    #tf.keras.layers.Dense(64, activation='relu'),\n",
    "    tf.keras.layers.Dense(24, activation='softmax'),\n",
    "    tf.keras.layers.Dense(1),\n",
    "])\n",
    "\n",
    "optimizer = tf.keras.optimizers.Adam(learning_rate=1e-5)\n",
    "model.compile(optimizer='adam', loss='mae', metrics=['mse'])\n",
    "\n",
    "history = model.fit(X_train, Y_train, epochs=50, validation_data=(X_test, Y_test), batch_size=1024)\n",
    "\n",
    "pd.DataFrame(history.history).plot()\n"
   ]
  },
  {
   "cell_type": "code",
   "execution_count": 49,
   "metadata": {},
   "outputs": [
    {
     "name": "stdout",
     "output_type": "stream",
     "text": [
      "38/38 [==============================] - 0s 2ms/step\n"
     ]
    },
    {
     "data": {
      "text/plain": [
       "(array([ 8.,  7., 15.,  8.,  9., 14., 10., 11.,  9., 13., 11., 14.,  9.,\n",
       "        22., 14., 16., 12., 12., 16.,  8., 12., 16.,  9., 11., 12., 12.,\n",
       "        12., 11., 10.,  5.,  8.,  8., 10.,  2., 13., 15., 14.,  5.,  3.,\n",
       "         7.,  7.,  7.,  9., 11., 11., 14., 12., 11., 14., 17., 21., 19.,\n",
       "        25., 13., 16.,  8., 24., 10., 14., 10., 10., 12.,  8., 10.,  7.,\n",
       "         9., 10., 10., 11.,  9.,  7., 12.,  9., 16.,  7., 13., 15.,  8.,\n",
       "         9., 19., 18., 18., 11., 11., 17., 18., 19., 22., 20., 15., 15.,\n",
       "         8., 13.,  9., 18., 11., 10.,  5., 11., 17.]),\n",
       " array([-1.  , -0.98, -0.96, -0.94, -0.92, -0.9 , -0.88, -0.86, -0.84,\n",
       "        -0.82, -0.8 , -0.78, -0.76, -0.74, -0.72, -0.7 , -0.68, -0.66,\n",
       "        -0.64, -0.62, -0.6 , -0.58, -0.56, -0.54, -0.52, -0.5 , -0.48,\n",
       "        -0.46, -0.44, -0.42, -0.4 , -0.38, -0.36, -0.34, -0.32, -0.3 ,\n",
       "        -0.28, -0.26, -0.24, -0.22, -0.2 , -0.18, -0.16, -0.14, -0.12,\n",
       "        -0.1 , -0.08, -0.06, -0.04, -0.02,  0.  ,  0.02,  0.04,  0.06,\n",
       "         0.08,  0.1 ,  0.12,  0.14,  0.16,  0.18,  0.2 ,  0.22,  0.24,\n",
       "         0.26,  0.28,  0.3 ,  0.32,  0.34,  0.36,  0.38,  0.4 ,  0.42,\n",
       "         0.44,  0.46,  0.48,  0.5 ,  0.52,  0.54,  0.56,  0.58,  0.6 ,\n",
       "         0.62,  0.64,  0.66,  0.68,  0.7 ,  0.72,  0.74,  0.76,  0.78,\n",
       "         0.8 ,  0.82,  0.84,  0.86,  0.88,  0.9 ,  0.92,  0.94,  0.96,\n",
       "         0.98,  1.  ]),\n",
       " <BarContainer object of 100 artists>)"
      ]
     },
     "execution_count": 49,
     "metadata": {},
     "output_type": "execute_result"
    },
    {
     "data": {
      "image/png": "[encoded data removed]",
      "text/plain": [
       "<Figure size 640x480 with 1 Axes>"
      ]
     },
     "metadata": {},
     "output_type": "display_data"
    }
   ],
   "source": [
    "Y_pred = model.predict(X_test)\n",
    "plt.hist(Y_pred, bins=100, alpha=1)\n",
    "plt.hist(Y_test, bins=100, alpha=.5)\n"
   ]
  },
  {
   "cell_type": "code",
   "execution_count": 40,
   "metadata": {},
   "outputs": [
    {
     "name": "stdout",
     "output_type": "stream",
     "text": [
      "prediction: -0.10, actual: 0.09\n",
      "prediction: 5.20, actual: 3.49\n",
      "prediction: 7.84, actual: 8.65\n",
      "prediction: -8.16, actual: -8.46\n",
      "prediction: -0.10, actual: 0.09\n",
      "prediction: 4.01, actual: 4.69\n",
      "prediction: 6.07, actual: 5.85\n",
      "prediction: -10.24, actual: -10.68\n",
      "prediction: 4.40, actual: 3.03\n",
      "prediction: -5.86, actual: -6.77\n",
      "mean error: 0.645\n",
      "accuracy: 0.54\n"
     ]
    }
   ],
   "source": [
    "# show 10 random predictions\n",
    "multipler = (max(Y)*CUT)*max(np.load(y_path))/100\n",
    "for i in range(10):\n",
    "    i = np.random.randint(len(Y_test))\n",
    "    print(f\"prediction: {Y_pred[i][0]*multipler:.2f}, actual: {Y_test[i]*multipler:.2f}\")\n",
    "print(f'mean error: {np.mean(np.abs(Y_pred - Y_test)):.3f}')\n",
    "max_error = .1\n",
    "\n",
    "# count positions where the prediction is within max_error of the actual value\n",
    "correct = 0\n",
    "\n",
    "for i in range(len(Y_test)):\n",
    "\n",
    "    if abs(Y_pred[i][0] - Y_test[i]) < max_error:\n",
    "        correct += 1\n",
    "print(f\"accuracy: {correct / len(Y_test):.2f}\")\n",
    "\n"
   ]
  },
  {
   "cell_type": "code",
   "execution_count": 50,
   "metadata": {},
   "outputs": [
    {
     "name": "stdout",
     "output_type": "stream",
     "text": [
      "1262.3999999999999\n"
     ]
    }
   ],
   "source": [
    "print((max(Y)*CUT)*max(np.load(y_path)))"
   ]
  },
  {
   "cell_type": "code",
   "execution_count": 51,
   "metadata": {},
   "outputs": [],
   "source": [
    "# save the model\n",
    "model.save('model.h5')\n"
   ]
  }
 ],
 "metadata": {
  "kernelspec": {
   "display_name": "Python 3.9.13 64-bit",
   "language": "python",
   "name": "python3"
  },
  "language_info": {
   "codemirror_mode": {
    "name": "ipython",
    "version": 3
   },
   "file_extension": ".py",
   "mimetype": "text/x-python",
   "name": "python",
   "nbconvert_exporter": "python",
   "pygments_lexer": "ipython3",
   "version": "3.9.13"
  },
  "orig_nbformat": 4,
  "vscode": {
   "interpreter": {
    "hash": "36c4e15d3501f1b8c035377f86e47d79812678382be8e661e791815c966f0344"
   }
  }
 },
 "nbformat": 4,
 "nbformat_minor": 2
}
